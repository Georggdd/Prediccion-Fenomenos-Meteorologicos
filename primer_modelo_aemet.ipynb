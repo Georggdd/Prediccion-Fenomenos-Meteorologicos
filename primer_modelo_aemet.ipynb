{
 "cells": [
  {
   "cell_type": "markdown",
   "id": "bc9f24d9",
   "metadata": {},
   "source": [
    "\n",
    "# Primeros pasos con modelos para datos meteorológicos de AEMET\n",
    "\n",
    "En esta notebook vamos a cargar los datos limpios diarios, mensuales y anuales que tienes, y hacer una prueba sencilla con tres modelos diferentes:  \n",
    "- Árbol de decisión para clasificar si hubo lluvia o no  \n",
    "- Regresión lineal para predecir la cantidad de lluvia  \n",
    "- Red LSTM para predecir temperatura media como serie temporal  \n",
    "\n",
    "Vamos paso a paso, con explicaciones sencillas para que entiendas bien cada parte.\n",
    "\n",
    "---\n",
    "\n",
    "**Instrucciones previas:**  \n",
    "Para ejecutar esta notebook necesitas tener instalado Jupyter Notebook o JupyterLab.  \n",
    "Si no lo tienes, abre tu consola (cmd o PowerShell) y ejecuta:\n",
    "\n",
    "```\n",
    "pip install notebook\n",
    "```\n",
    "\n",
    "Luego, para lanzar Jupyter, navega en la consola a la carpeta donde está esta notebook y escribe:\n",
    "\n",
    "```\n",
    "jupyter notebook\n",
    "```\n",
    "\n",
    "Esto abrirá una ventana en tu navegador con la lista de archivos. Haz clic en esta notebook para abrirla y ejecutar las celdas.\n",
    "\n",
    "---\n",
    "\n",
    "¡Empecemos!\n"
   ]
  },
  {
   "cell_type": "code",
   "execution_count": 1,
   "id": "ee089895",
   "metadata": {},
   "outputs": [
    {
     "ename": "ModuleNotFoundError",
     "evalue": "No module named 'tensorflow'",
     "output_type": "error",
     "traceback": [
      "\u001b[31m---------------------------------------------------------------------------\u001b[39m",
      "\u001b[31mModuleNotFoundError\u001b[39m                       Traceback (most recent call last)",
      "\u001b[36mCell\u001b[39m\u001b[36m \u001b[39m\u001b[32mIn[1]\u001b[39m\u001b[32m, line 7\u001b[39m\n\u001b[32m      5\u001b[39m \u001b[38;5;28;01mfrom\u001b[39;00m\u001b[38;5;250m \u001b[39m\u001b[34;01msklearn\u001b[39;00m\u001b[34;01m.\u001b[39;00m\u001b[34;01mtree\u001b[39;00m\u001b[38;5;250m \u001b[39m\u001b[38;5;28;01mimport\u001b[39;00m DecisionTreeClassifier\n\u001b[32m      6\u001b[39m \u001b[38;5;28;01mfrom\u001b[39;00m\u001b[38;5;250m \u001b[39m\u001b[34;01msklearn\u001b[39;00m\u001b[34;01m.\u001b[39;00m\u001b[34;01mlinear_model\u001b[39;00m\u001b[38;5;250m \u001b[39m\u001b[38;5;28;01mimport\u001b[39;00m LinearRegression\n\u001b[32m----> \u001b[39m\u001b[32m7\u001b[39m \u001b[38;5;28;01mfrom\u001b[39;00m\u001b[38;5;250m \u001b[39m\u001b[34;01mtensorflow\u001b[39;00m\u001b[34;01m.\u001b[39;00m\u001b[34;01mkeras\u001b[39;00m\u001b[34;01m.\u001b[39;00m\u001b[34;01mmodels\u001b[39;00m\u001b[38;5;250m \u001b[39m\u001b[38;5;28;01mimport\u001b[39;00m Sequential\n\u001b[32m      8\u001b[39m \u001b[38;5;28;01mfrom\u001b[39;00m\u001b[38;5;250m \u001b[39m\u001b[34;01mtensorflow\u001b[39;00m\u001b[34;01m.\u001b[39;00m\u001b[34;01mkeras\u001b[39;00m\u001b[34;01m.\u001b[39;00m\u001b[34;01mlayers\u001b[39;00m\u001b[38;5;250m \u001b[39m\u001b[38;5;28;01mimport\u001b[39;00m LSTM, Dense\n\u001b[32m      9\u001b[39m \u001b[38;5;28;01mfrom\u001b[39;00m\u001b[38;5;250m \u001b[39m\u001b[34;01mtensorflow\u001b[39;00m\u001b[34;01m.\u001b[39;00m\u001b[34;01mkeras\u001b[39;00m\u001b[34;01m.\u001b[39;00m\u001b[34;01mcallbacks\u001b[39;00m\u001b[38;5;250m \u001b[39m\u001b[38;5;28;01mimport\u001b[39;00m EarlyStopping\n",
      "\u001b[31mModuleNotFoundError\u001b[39m: No module named 'tensorflow'"
     ]
    }
   ],
   "source": [
    "\n",
    "# Celda 1 - Importar librerías necesarias\n",
    "import pandas as pd\n",
    "import numpy as np\n",
    "from sklearn.model_selection import train_test_split\n",
    "from sklearn.tree import DecisionTreeClassifier\n",
    "from sklearn.linear_model import LinearRegression\n",
    "from tensorflow.keras.models import Sequential\n",
    "from tensorflow.keras.layers import LSTM, Dense\n",
    "from tensorflow.keras.callbacks import EarlyStopping\n",
    "import matplotlib.pyplot as plt\n"
   ]
  },
  {
   "cell_type": "code",
   "execution_count": null,
   "id": "0e79f52b",
   "metadata": {},
   "outputs": [],
   "source": [
    "\n",
    "# Celda 2 - Cargar datos limpios (ajusta las rutas a tus archivos)\n",
    "df_diarios = pd.read_csv('src/data/limpios/alcantarilla_diarios.csv')\n",
    "df_mensuales = pd.read_csv('src/data/limpios/mensuales.csv')\n",
    "df_anuales = pd.read_csv('src/data/limpios/anuales.csv')\n",
    "\n",
    "print(\"Datos diarios cargados:\", df_diarios.shape)\n",
    "print(\"Datos mensuales cargados:\", df_mensuales.shape)\n",
    "print(\"Datos anuales cargados:\", df_anuales.shape)\n"
   ]
  },
  {
   "cell_type": "code",
   "execution_count": null,
   "id": "32c90f8a",
   "metadata": {},
   "outputs": [],
   "source": [
    "\n",
    "# Celda 3 - Exploración rápida de los datos diarios\n",
    "print(df_diarios.head())\n",
    "print(df_diarios.info())\n"
   ]
  },
  {
   "cell_type": "code",
   "execution_count": null,
   "id": "e8c23f3e",
   "metadata": {},
   "outputs": [],
   "source": [
    "\n",
    "# Celda 4 - Preparar datos para un modelo simple:  \n",
    "# Queremos predecir si llovió o no (variable 'prec' > 0)\n",
    "\n",
    "# Crear columna 'lluvia' binaria: 1 si lluvia > 0, 0 si no\n",
    "df_diarios['lluvia'] = (df_diarios['prec'] > 0).astype(int)\n",
    "\n",
    "# Elegimos características (features) numéricas para entrenar\n",
    "features = ['tmed', 'tmin', 'tmax', 'velmedia', 'racha', 'presMax', 'presMin', 'hrMedia', 'sol']\n",
    "X = df_diarios[features].fillna(0)  # Rellenar nulos con 0 para simplificar\n",
    "y = df_diarios['lluvia']\n",
    "\n",
    "print(\"Características seleccionadas:\", X.columns)\n"
   ]
  },
  {
   "cell_type": "code",
   "execution_count": null,
   "id": "103fad98",
   "metadata": {},
   "outputs": [],
   "source": [
    "\n",
    "# Celda 5 - Dividir los datos en entrenamiento y prueba\n",
    "\n",
    "X_train, X_test, y_train, y_test = train_test_split(X, y, test_size=0.2, random_state=42)\n",
    "\n",
    "print(\"Tamaño de entrenamiento:\", X_train.shape)\n",
    "print(\"Tamaño de prueba:\", X_test.shape)\n"
   ]
  },
  {
   "cell_type": "code",
   "execution_count": null,
   "id": "e824a34d",
   "metadata": {},
   "outputs": [],
   "source": [
    "\n",
    "# Celda 6 - Entrenar un Árbol de Decisión para clasificación de lluvia\n",
    "\n",
    "clf = DecisionTreeClassifier(random_state=42)\n",
    "clf.fit(X_train, y_train)\n",
    "\n",
    "score_train = clf.score(X_train, y_train)\n",
    "score_test = clf.score(X_test, y_test)\n",
    "\n",
    "print(f\"Precisión en entrenamiento: {score_train:.2f}\")\n",
    "print(f\"Precisión en prueba: {score_test:.2f}\")\n"
   ]
  },
  {
   "cell_type": "code",
   "execution_count": null,
   "id": "81582711",
   "metadata": {},
   "outputs": [],
   "source": [
    "\n",
    "# Celda 7 - Entrenar un modelo de regresión para predecir la cantidad de lluvia (prec)\n",
    "\n",
    "# Usamos solo días con lluvia para este modelo\n",
    "precip_dias = df_diarios[df_diarios['prec'] > 0]\n",
    "X_prec = precip_dias[features].fillna(0)\n",
    "y_prec = precip_dias['prec']\n",
    "\n",
    "X_train_reg, X_test_reg, y_train_reg, y_test_reg = train_test_split(X_prec, y_prec, test_size=0.2, random_state=42)\n",
    "\n",
    "reg = LinearRegression()\n",
    "reg.fit(X_train_reg, y_train_reg)\n",
    "\n",
    "score_reg_train = reg.score(X_train_reg, y_train_reg)\n",
    "score_reg_test = reg.score(X_test_reg, y_test_reg)\n",
    "\n",
    "print(f\"R2 en entrenamiento (precipitación): {score_reg_train:.2f}\")\n",
    "print(f\"R2 en prueba (precipitación): {score_reg_test:.2f}\")\n"
   ]
  },
  {
   "cell_type": "code",
   "execution_count": null,
   "id": "0cd60f7f",
   "metadata": {},
   "outputs": [],
   "source": [
    "\n",
    "# Celda 8 - Preparar datos para LSTM (serie temporal)\n",
    "\n",
    "# Vamos a usar la temperatura media diaria para predecir la siguiente\n",
    "\n",
    "# Ordenar por fecha\n",
    "df_diarios = df_diarios.sort_values('fecha')\n",
    "\n",
    "# Seleccionar la columna para la serie temporal\n",
    "serie = df_diarios['tmed'].fillna(method='ffill').values  # Rellenar con el último valor válido\n",
    "\n",
    "# Normalizar (escalar) la serie entre 0 y 1 para que LSTM funcione mejor\n",
    "from sklearn.preprocessing import MinMaxScaler\n",
    "scaler = MinMaxScaler(feature_range=(0,1))\n",
    "serie_scaled = scaler.fit_transform(serie.reshape(-1,1))\n",
    "\n",
    "# Función para crear secuencias (ventanas deslizantes)\n",
    "def crear_secuencias(data, pasos=5):\n",
    "    X, y = [], []\n",
    "    for i in range(len(data) - pasos):\n",
    "        X.append(data[i:i+pasos])\n",
    "        y.append(data[i+pasos])\n",
    "    return np.array(X), np.array(y)\n",
    "\n",
    "pasos = 5\n",
    "X_lstm, y_lstm = crear_secuencias(serie_scaled, pasos)\n",
    "\n",
    "# Dividir en entrenamiento y prueba\n",
    "split = int(len(X_lstm) * 0.8)\n",
    "X_train_lstm, X_test_lstm = X_lstm[:split], X_lstm[split:]\n",
    "y_train_lstm, y_test_lstm = y_lstm[:split], y_lstm[split:]\n",
    "\n",
    "print(\"Formas de los datos LSTM:\", X_train_lstm.shape, y_train_lstm.shape)\n"
   ]
  },
  {
   "cell_type": "code",
   "execution_count": null,
   "id": "47c4aec3",
   "metadata": {},
   "outputs": [],
   "source": [
    "\n",
    "# Celda 9 - Crear y entrenar modelo LSTM\n",
    "\n",
    "model = Sequential()\n",
    "model.add(LSTM(50, activation='relu', input_shape=(pasos, 1)))\n",
    "model.add(Dense(1))\n",
    "model.compile(optimizer='adam', loss='mse')\n",
    "\n",
    "# Entrenar con EarlyStopping para no sobreentrenar\n",
    "early_stop = EarlyStopping(monitor='val_loss', patience=5)\n",
    "\n",
    "history = model.fit(X_train_lstm, y_train_lstm,\n",
    "                    epochs=50,\n",
    "                    batch_size=32,\n",
    "                    validation_data=(X_test_lstm, y_test_lstm),\n",
    "                    callbacks=[early_stop],\n",
    "                    verbose=1)\n"
   ]
  },
  {
   "cell_type": "code",
   "execution_count": null,
   "id": "7df172ea",
   "metadata": {},
   "outputs": [],
   "source": [
    "\n",
    "# Celda 10 - Visualizar la evolución del error en entrenamiento y prueba\n",
    "\n",
    "import matplotlib.pyplot as plt\n",
    "\n",
    "plt.plot(history.history['loss'], label='Error entrenamiento')\n",
    "plt.plot(history.history['val_loss'], label='Error validación')\n",
    "plt.legend()\n",
    "plt.show()\n"
   ]
  }
 ],
 "metadata": {
  "kernelspec": {
   "display_name": "Python 3 (ipykernel)",
   "language": "python",
   "name": "python3"
  },
  "language_info": {
   "codemirror_mode": {
    "name": "ipython",
    "version": 3
   },
   "file_extension": ".py",
   "mimetype": "text/x-python",
   "name": "python",
   "nbconvert_exporter": "python",
   "pygments_lexer": "ipython3",
   "version": "3.13.5"
  }
 },
 "nbformat": 4,
 "nbformat_minor": 5
}
