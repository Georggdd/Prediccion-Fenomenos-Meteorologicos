{
 "cells": [
  {
   "cell_type": "markdown",
   "id": "bc9f24d9",
   "metadata": {},
   "source": [
    "\n",
    "# Primeros pasos con modelos para datos meteorológicos de AEMET\n",
    "\n",
    "En esta notebook vamos a cargar los datos limpios diarios, mensuales y anuales que tienes, y hacer una prueba sencilla con tres modelos diferentes:  \n",
    "- Árbol de decisión para clasificar si hubo lluvia o no  \n",
    "- Regresión lineal para predecir la cantidad de lluvia  \n",
    "- Red LSTM para predecir temperatura media como serie temporal  \n",
    "\n",
    "Vamos paso a paso, con explicaciones sencillas para que entiendas bien cada parte.\n",
    "\n",
    "---\n",
    "\n",
    "**Instrucciones previas:**  \n",
    "Para ejecutar esta notebook necesitas tener instalado Jupyter Notebook o JupyterLab.  \n",
    "Si no lo tienes, abre tu consola (cmd o PowerShell) y ejecuta:\n",
    "\n",
    "```\n",
    "pip install notebook\n",
    "```\n",
    "\n",
    "Luego, para lanzar Jupyter, navega en la consola a la carpeta donde está esta notebook y escribe:\n",
    "\n",
    "```\n",
    "jupyter notebook\n",
    "```\n",
    "\n",
    "Esto abrirá una ventana en tu navegador con la lista de archivos. Haz clic en esta notebook para abrirla y ejecutar las celdas.\n",
    "\n",
    "---\n",
    "\n",
    "¡Empecemos!\n"
   ]
  },
  {
   "cell_type": "code",
   "execution_count": 1,
   "id": "ee089895",
   "metadata": {},
   "outputs": [],
   "source": [
    "\n",
    "# Celda 1 - Importar librerías necesarias\n",
    "import pandas as pd\n",
    "import numpy as np\n",
    "from sklearn.model_selection import train_test_split\n",
    "from sklearn.tree import DecisionTreeClassifier\n",
    "from sklearn.linear_model import LinearRegression\n",
    "from tensorflow.keras.models import Sequential\n",
    "from tensorflow.keras.layers import LSTM, Dense\n",
    "from tensorflow.keras.callbacks import EarlyStopping\n",
    "import matplotlib.pyplot as plt\n"
   ]
  },
  {
   "cell_type": "code",
   "execution_count": 3,
   "id": "0e79f52b",
   "metadata": {},
   "outputs": [
    {
     "name": "stdout",
     "output_type": "stream",
     "text": [
      "Datos diarios cargados: (3830, 25)\n",
      "Datos mensuales cargados: (132, 44)\n",
      "Datos anuales cargados: (11, 44)\n"
     ]
    }
   ],
   "source": [
    "\n",
    "# Celda 2 - Cargar datos limpios (ajusta las rutas a tus archivos)\n",
    "df_diarios = pd.read_csv('src/data/limpios/AEMET/alcantarilla/diarios/diarios.csv')\n",
    "df_mensuales = pd.read_csv('src/data/limpios/AEMET/alcantarilla/mensuales-anuales/mensuales.csv')\n",
    "df_anuales = pd.read_csv('src/data/limpios/AEMET/alcantarilla/mensuales-anuales/anuales.csv')\n",
    "\n",
    "print(\"Datos diarios cargados:\", df_diarios.shape)\n",
    "print(\"Datos mensuales cargados:\", df_mensuales.shape)\n",
    "print(\"Datos anuales cargados:\", df_anuales.shape)\n"
   ]
  },
  {
   "cell_type": "code",
   "execution_count": 4,
   "id": "32c90f8a",
   "metadata": {},
   "outputs": [
    {
     "name": "stdout",
     "output_type": "stream",
     "text": [
      "        fecha  indicativo                    nombre provincia  altitud  tmed  \\\n",
      "0  2015-01-01        7228  ALCANTARILLA, BASE AEREA    MURCIA       75   8.6   \n",
      "1  2015-01-02        7228  ALCANTARILLA, BASE AEREA    MURCIA       75   8.4   \n",
      "2  2015-01-03        7228  ALCANTARILLA, BASE AEREA    MURCIA       75   9.9   \n",
      "3  2015-01-04        7228  ALCANTARILLA, BASE AEREA    MURCIA       75  12.2   \n",
      "4  2015-01-05        7228  ALCANTARILLA, BASE AEREA    MURCIA       75   9.6   \n",
      "\n",
      "   prec  tmin horatmin  tmax  ...  sol  presMax  horaPresMax  presMin  \\\n",
      "0   0.0   1.5   Varias  15.8  ...  7.3   1028.6           10   1020.8   \n",
      "1   0.0  -0.4    07:20  17.2  ...  9.0   1030.9           10   1028.1   \n",
      "2   0.0  -0.4    05:40  20.2  ...  9.1   1030.5           00   1025.9   \n",
      "3   0.0   2.6    07:15  21.8  ...  9.0   1026.4           00   1020.9   \n",
      "4   0.0   1.4    07:00  17.9  ...  9.0   1023.2           09   1018.9   \n",
      "\n",
      "  horaPresMin  hrMedia  hrMax horaHrMax  hrMin horaHrMin  \n",
      "0          00       67     90     23:10     45     12:20  \n",
      "1          05       68     97     06:30     31     14:50  \n",
      "2          18       63     94     06:00     32     14:00  \n",
      "3          16       48     84    Varias     19     14:40  \n",
      "4          24       74     97     23:59     50     13:00  \n",
      "\n",
      "[5 rows x 25 columns]\n",
      "<class 'pandas.core.frame.DataFrame'>\n",
      "RangeIndex: 3830 entries, 0 to 3829\n",
      "Data columns (total 25 columns):\n",
      " #   Column       Non-Null Count  Dtype  \n",
      "---  ------       --------------  -----  \n",
      " 0   fecha        3830 non-null   object \n",
      " 1   indicativo   3830 non-null   int64  \n",
      " 2   nombre       3830 non-null   object \n",
      " 3   provincia    3830 non-null   object \n",
      " 4   altitud      3830 non-null   int64  \n",
      " 5   tmed         3830 non-null   float64\n",
      " 6   prec         3724 non-null   float64\n",
      " 7   tmin         3830 non-null   float64\n",
      " 8   horatmin     3830 non-null   object \n",
      " 9   tmax         3830 non-null   float64\n",
      " 10  horatmax     3830 non-null   object \n",
      " 11  dir          3797 non-null   float64\n",
      " 12  velmedia     3807 non-null   float64\n",
      " 13  racha        3797 non-null   float64\n",
      " 14  horaracha    3797 non-null   object \n",
      " 15  sol          3801 non-null   float64\n",
      " 16  presMax      3829 non-null   float64\n",
      " 17  horaPresMax  3829 non-null   object \n",
      " 18  presMin      3829 non-null   float64\n",
      " 19  horaPresMin  3825 non-null   object \n",
      " 20  hrMedia      3830 non-null   int64  \n",
      " 21  hrMax        3830 non-null   int64  \n",
      " 22  horaHrMax    3830 non-null   object \n",
      " 23  hrMin        3830 non-null   int64  \n",
      " 24  horaHrMin    3830 non-null   object \n",
      "dtypes: float64(10), int64(5), object(10)\n",
      "memory usage: 748.2+ KB\n",
      "None\n"
     ]
    }
   ],
   "source": [
    "\n",
    "# Celda 3 - Exploración rápida de los datos diarios\n",
    "print(df_diarios.head())\n",
    "print(df_diarios.info())\n"
   ]
  },
  {
   "cell_type": "code",
   "execution_count": 5,
   "id": "e8c23f3e",
   "metadata": {},
   "outputs": [
    {
     "name": "stdout",
     "output_type": "stream",
     "text": [
      "Características seleccionadas: Index(['tmed', 'tmin', 'tmax', 'velmedia', 'racha', 'presMax', 'presMin',\n",
      "       'hrMedia', 'sol'],\n",
      "      dtype='object')\n"
     ]
    }
   ],
   "source": [
    "\n",
    "# Celda 4 - Preparar datos para un modelo simple:  \n",
    "# Queremos predecir si llovió o no (variable 'prec' > 0)\n",
    "\n",
    "# Crear columna 'lluvia' binaria: 1 si lluvia > 0, 0 si no\n",
    "df_diarios['lluvia'] = (df_diarios['prec'] > 0).astype(int)\n",
    "\n",
    "# Elegimos características (features) numéricas para entrenar\n",
    "features = ['tmed', 'tmin', 'tmax', 'velmedia', 'racha', 'presMax', 'presMin', 'hrMedia', 'sol']\n",
    "X = df_diarios[features].fillna(0)  # Rellenar nulos con 0 para simplificar\n",
    "y = df_diarios['lluvia']\n",
    "\n",
    "print(\"Características seleccionadas:\", X.columns)\n"
   ]
  },
  {
   "cell_type": "code",
   "execution_count": 6,
   "id": "103fad98",
   "metadata": {},
   "outputs": [
    {
     "name": "stdout",
     "output_type": "stream",
     "text": [
      "Tamaño de entrenamiento: (3064, 9)\n",
      "Tamaño de prueba: (766, 9)\n"
     ]
    }
   ],
   "source": [
    "\n",
    "# Celda 5 - Dividir los datos en entrenamiento y prueba\n",
    "\n",
    "X_train, X_test, y_train, y_test = train_test_split(X, y, test_size=0.2, random_state=42)\n",
    "\n",
    "print(\"Tamaño de entrenamiento:\", X_train.shape)\n",
    "print(\"Tamaño de prueba:\", X_test.shape)\n"
   ]
  },
  {
   "cell_type": "code",
   "execution_count": 7,
   "id": "e824a34d",
   "metadata": {},
   "outputs": [
    {
     "name": "stdout",
     "output_type": "stream",
     "text": [
      "Precisión en entrenamiento: 1.00\n",
      "Precisión en prueba: 0.84\n"
     ]
    }
   ],
   "source": [
    "\n",
    "# Celda 6 - Entrenar un Árbol de Decisión para clasificación de lluvia\n",
    "\n",
    "clf = DecisionTreeClassifier(random_state=42)\n",
    "clf.fit(X_train, y_train)\n",
    "\n",
    "score_train = clf.score(X_train, y_train)\n",
    "score_test = clf.score(X_test, y_test)\n",
    "\n",
    "print(f\"Precisión en entrenamiento: {score_train:.2f}\")\n",
    "print(f\"Precisión en prueba: {score_test:.2f}\")\n"
   ]
  },
  {
   "cell_type": "code",
   "execution_count": 8,
   "id": "81582711",
   "metadata": {},
   "outputs": [
    {
     "name": "stdout",
     "output_type": "stream",
     "text": [
      "R2 en entrenamiento (precipitación): 0.17\n",
      "R2 en prueba (precipitación): 0.07\n"
     ]
    }
   ],
   "source": [
    "\n",
    "# Celda 7 - Entrenar un modelo de regresión para predecir la cantidad de lluvia (prec)\n",
    "\n",
    "# Usamos solo días con lluvia para este modelo\n",
    "precip_dias = df_diarios[df_diarios['prec'] > 0]\n",
    "X_prec = precip_dias[features].fillna(0)\n",
    "y_prec = precip_dias['prec']\n",
    "\n",
    "X_train_reg, X_test_reg, y_train_reg, y_test_reg = train_test_split(X_prec, y_prec, test_size=0.2, random_state=42)\n",
    "\n",
    "reg = LinearRegression()\n",
    "reg.fit(X_train_reg, y_train_reg)\n",
    "\n",
    "score_reg_train = reg.score(X_train_reg, y_train_reg)\n",
    "score_reg_test = reg.score(X_test_reg, y_test_reg)\n",
    "\n",
    "print(f\"R2 en entrenamiento (precipitación): {score_reg_train:.2f}\")\n",
    "print(f\"R2 en prueba (precipitación): {score_reg_test:.2f}\")\n"
   ]
  },
  {
   "cell_type": "code",
   "execution_count": 9,
   "id": "0cd60f7f",
   "metadata": {},
   "outputs": [
    {
     "name": "stdout",
     "output_type": "stream",
     "text": [
      "Formas de los datos LSTM: (3060, 5, 1) (3060, 1)\n"
     ]
    },
    {
     "name": "stderr",
     "output_type": "stream",
     "text": [
      "C:\\Users\\georg\\AppData\\Local\\Temp\\ipykernel_8780\\3971590742.py:9: FutureWarning: Series.fillna with 'method' is deprecated and will raise in a future version. Use obj.ffill() or obj.bfill() instead.\n",
      "  serie = df_diarios['tmed'].fillna(method='ffill').values  # Rellenar con el último valor válido\n"
     ]
    }
   ],
   "source": [
    "\n",
    "# Celda 8 - Preparar datos para LSTM (serie temporal)\n",
    "\n",
    "# Vamos a usar la temperatura media diaria para predecir la siguiente\n",
    "\n",
    "# Ordenar por fecha\n",
    "df_diarios = df_diarios.sort_values('fecha')\n",
    "\n",
    "# Seleccionar la columna para la serie temporal\n",
    "serie = df_diarios['tmed'].fillna(method='ffill').values  # Rellenar con el último valor válido\n",
    "\n",
    "# Normalizar (escalar) la serie entre 0 y 1 para que LSTM funcione mejor\n",
    "from sklearn.preprocessing import MinMaxScaler\n",
    "scaler = MinMaxScaler(feature_range=(0,1))\n",
    "serie_scaled = scaler.fit_transform(serie.reshape(-1,1))\n",
    "\n",
    "# Función para crear secuencias (ventanas deslizantes)\n",
    "def crear_secuencias(data, pasos=5):\n",
    "    X, y = [], []\n",
    "    for i in range(len(data) - pasos):\n",
    "        X.append(data[i:i+pasos])\n",
    "        y.append(data[i+pasos])\n",
    "    return np.array(X), np.array(y)\n",
    "\n",
    "pasos = 5\n",
    "X_lstm, y_lstm = crear_secuencias(serie_scaled, pasos)\n",
    "\n",
    "# Dividir en entrenamiento y prueba\n",
    "split = int(len(X_lstm) * 0.8)\n",
    "X_train_lstm, X_test_lstm = X_lstm[:split], X_lstm[split:]\n",
    "y_train_lstm, y_test_lstm = y_lstm[:split], y_lstm[split:]\n",
    "\n",
    "print(\"Formas de los datos LSTM:\", X_train_lstm.shape, y_train_lstm.shape)\n"
   ]
  },
  {
   "cell_type": "code",
   "execution_count": 12,
   "id": "47c4aec3",
   "metadata": {},
   "outputs": [
    {
     "name": "stdout",
     "output_type": "stream",
     "text": [
      "Epoch 1/50\n",
      "\u001b[1m96/96\u001b[0m \u001b[32m━━━━━━━━━━━━━━━━━━━━\u001b[0m\u001b[37m\u001b[0m \u001b[1m2s\u001b[0m 6ms/step - loss: 0.0967 - val_loss: 0.0051\n",
      "Epoch 2/50\n",
      "\u001b[1m96/96\u001b[0m \u001b[32m━━━━━━━━━━━━━━━━━━━━\u001b[0m\u001b[37m\u001b[0m \u001b[1m0s\u001b[0m 4ms/step - loss: 0.0052 - val_loss: 0.0041\n",
      "Epoch 3/50\n",
      "\u001b[1m96/96\u001b[0m \u001b[32m━━━━━━━━━━━━━━━━━━━━\u001b[0m\u001b[37m\u001b[0m \u001b[1m0s\u001b[0m 4ms/step - loss: 0.0047 - val_loss: 0.0040\n",
      "Epoch 4/50\n",
      "\u001b[1m96/96\u001b[0m \u001b[32m━━━━━━━━━━━━━━━━━━━━\u001b[0m\u001b[37m\u001b[0m \u001b[1m0s\u001b[0m 4ms/step - loss: 0.0045 - val_loss: 0.0043\n",
      "Epoch 5/50\n",
      "\u001b[1m96/96\u001b[0m \u001b[32m━━━━━━━━━━━━━━━━━━━━\u001b[0m\u001b[37m\u001b[0m \u001b[1m0s\u001b[0m 4ms/step - loss: 0.0048 - val_loss: 0.0040\n",
      "Epoch 6/50\n",
      "\u001b[1m96/96\u001b[0m \u001b[32m━━━━━━━━━━━━━━━━━━━━\u001b[0m\u001b[37m\u001b[0m \u001b[1m0s\u001b[0m 4ms/step - loss: 0.0045 - val_loss: 0.0039\n",
      "Epoch 7/50\n",
      "\u001b[1m96/96\u001b[0m \u001b[32m━━━━━━━━━━━━━━━━━━━━\u001b[0m\u001b[37m\u001b[0m \u001b[1m0s\u001b[0m 4ms/step - loss: 0.0043 - val_loss: 0.0038\n",
      "Epoch 8/50\n",
      "\u001b[1m96/96\u001b[0m \u001b[32m━━━━━━━━━━━━━━━━━━━━\u001b[0m\u001b[37m\u001b[0m \u001b[1m0s\u001b[0m 4ms/step - loss: 0.0043 - val_loss: 0.0037\n",
      "Epoch 9/50\n",
      "\u001b[1m96/96\u001b[0m \u001b[32m━━━━━━━━━━━━━━━━━━━━\u001b[0m\u001b[37m\u001b[0m \u001b[1m0s\u001b[0m 4ms/step - loss: 0.0041 - val_loss: 0.0036\n",
      "Epoch 10/50\n",
      "\u001b[1m96/96\u001b[0m \u001b[32m━━━━━━━━━━━━━━━━━━━━\u001b[0m\u001b[37m\u001b[0m \u001b[1m0s\u001b[0m 4ms/step - loss: 0.0042 - val_loss: 0.0035\n",
      "Epoch 11/50\n",
      "\u001b[1m96/96\u001b[0m \u001b[32m━━━━━━━━━━━━━━━━━━━━\u001b[0m\u001b[37m\u001b[0m \u001b[1m0s\u001b[0m 4ms/step - loss: 0.0040 - val_loss: 0.0035\n",
      "Epoch 12/50\n",
      "\u001b[1m96/96\u001b[0m \u001b[32m━━━━━━━━━━━━━━━━━━━━\u001b[0m\u001b[37m\u001b[0m \u001b[1m0s\u001b[0m 4ms/step - loss: 0.0040 - val_loss: 0.0034\n",
      "Epoch 13/50\n",
      "\u001b[1m96/96\u001b[0m \u001b[32m━━━━━━━━━━━━━━━━━━━━\u001b[0m\u001b[37m\u001b[0m \u001b[1m0s\u001b[0m 4ms/step - loss: 0.0036 - val_loss: 0.0035\n",
      "Epoch 14/50\n",
      "\u001b[1m96/96\u001b[0m \u001b[32m━━━━━━━━━━━━━━━━━━━━\u001b[0m\u001b[37m\u001b[0m \u001b[1m0s\u001b[0m 4ms/step - loss: 0.0037 - val_loss: 0.0033\n",
      "Epoch 15/50\n",
      "\u001b[1m96/96\u001b[0m \u001b[32m━━━━━━━━━━━━━━━━━━━━\u001b[0m\u001b[37m\u001b[0m \u001b[1m0s\u001b[0m 4ms/step - loss: 0.0035 - val_loss: 0.0032\n",
      "Epoch 16/50\n",
      "\u001b[1m96/96\u001b[0m \u001b[32m━━━━━━━━━━━━━━━━━━━━\u001b[0m\u001b[37m\u001b[0m \u001b[1m0s\u001b[0m 4ms/step - loss: 0.0038 - val_loss: 0.0031\n",
      "Epoch 17/50\n",
      "\u001b[1m96/96\u001b[0m \u001b[32m━━━━━━━━━━━━━━━━━━━━\u001b[0m\u001b[37m\u001b[0m \u001b[1m0s\u001b[0m 4ms/step - loss: 0.0036 - val_loss: 0.0031\n",
      "Epoch 18/50\n",
      "\u001b[1m96/96\u001b[0m \u001b[32m━━━━━━━━━━━━━━━━━━━━\u001b[0m\u001b[37m\u001b[0m \u001b[1m0s\u001b[0m 4ms/step - loss: 0.0034 - val_loss: 0.0030\n",
      "Epoch 19/50\n",
      "\u001b[1m96/96\u001b[0m \u001b[32m━━━━━━━━━━━━━━━━━━━━\u001b[0m\u001b[37m\u001b[0m \u001b[1m0s\u001b[0m 4ms/step - loss: 0.0035 - val_loss: 0.0030\n",
      "Epoch 20/50\n",
      "\u001b[1m96/96\u001b[0m \u001b[32m━━━━━━━━━━━━━━━━━━━━\u001b[0m\u001b[37m\u001b[0m \u001b[1m0s\u001b[0m 4ms/step - loss: 0.0033 - val_loss: 0.0030\n",
      "Epoch 21/50\n",
      "\u001b[1m96/96\u001b[0m \u001b[32m━━━━━━━━━━━━━━━━━━━━\u001b[0m\u001b[37m\u001b[0m \u001b[1m0s\u001b[0m 4ms/step - loss: 0.0032 - val_loss: 0.0030\n",
      "Epoch 22/50\n",
      "\u001b[1m96/96\u001b[0m \u001b[32m━━━━━━━━━━━━━━━━━━━━\u001b[0m\u001b[37m\u001b[0m \u001b[1m0s\u001b[0m 4ms/step - loss: 0.0033 - val_loss: 0.0029\n",
      "Epoch 23/50\n",
      "\u001b[1m96/96\u001b[0m \u001b[32m━━━━━━━━━━━━━━━━━━━━\u001b[0m\u001b[37m\u001b[0m \u001b[1m0s\u001b[0m 4ms/step - loss: 0.0033 - val_loss: 0.0028\n",
      "Epoch 24/50\n",
      "\u001b[1m96/96\u001b[0m \u001b[32m━━━━━━━━━━━━━━━━━━━━\u001b[0m\u001b[37m\u001b[0m \u001b[1m0s\u001b[0m 4ms/step - loss: 0.0031 - val_loss: 0.0030\n",
      "Epoch 25/50\n",
      "\u001b[1m96/96\u001b[0m \u001b[32m━━━━━━━━━━━━━━━━━━━━\u001b[0m\u001b[37m\u001b[0m \u001b[1m0s\u001b[0m 4ms/step - loss: 0.0030 - val_loss: 0.0028\n",
      "Epoch 26/50\n",
      "\u001b[1m96/96\u001b[0m \u001b[32m━━━━━━━━━━━━━━━━━━━━\u001b[0m\u001b[37m\u001b[0m \u001b[1m0s\u001b[0m 4ms/step - loss: 0.0030 - val_loss: 0.0030\n",
      "Epoch 27/50\n",
      "\u001b[1m96/96\u001b[0m \u001b[32m━━━━━━━━━━━━━━━━━━━━\u001b[0m\u001b[37m\u001b[0m \u001b[1m0s\u001b[0m 4ms/step - loss: 0.0029 - val_loss: 0.0027\n",
      "Epoch 28/50\n",
      "\u001b[1m96/96\u001b[0m \u001b[32m━━━━━━━━━━━━━━━━━━━━\u001b[0m\u001b[37m\u001b[0m \u001b[1m0s\u001b[0m 4ms/step - loss: 0.0031 - val_loss: 0.0027\n",
      "Epoch 29/50\n",
      "\u001b[1m96/96\u001b[0m \u001b[32m━━━━━━━━━━━━━━━━━━━━\u001b[0m\u001b[37m\u001b[0m \u001b[1m0s\u001b[0m 4ms/step - loss: 0.0031 - val_loss: 0.0026\n",
      "Epoch 30/50\n",
      "\u001b[1m96/96\u001b[0m \u001b[32m━━━━━━━━━━━━━━━━━━━━\u001b[0m\u001b[37m\u001b[0m \u001b[1m0s\u001b[0m 4ms/step - loss: 0.0029 - val_loss: 0.0027\n",
      "Epoch 31/50\n",
      "\u001b[1m96/96\u001b[0m \u001b[32m━━━━━━━━━━━━━━━━━━━━\u001b[0m\u001b[37m\u001b[0m \u001b[1m0s\u001b[0m 4ms/step - loss: 0.0028 - val_loss: 0.0026\n",
      "Epoch 32/50\n",
      "\u001b[1m96/96\u001b[0m \u001b[32m━━━━━━━━━━━━━━━━━━━━\u001b[0m\u001b[37m\u001b[0m \u001b[1m0s\u001b[0m 4ms/step - loss: 0.0030 - val_loss: 0.0026\n",
      "Epoch 33/50\n",
      "\u001b[1m96/96\u001b[0m \u001b[32m━━━━━━━━━━━━━━━━━━━━\u001b[0m\u001b[37m\u001b[0m \u001b[1m0s\u001b[0m 4ms/step - loss: 0.0028 - val_loss: 0.0026\n",
      "Epoch 34/50\n",
      "\u001b[1m96/96\u001b[0m \u001b[32m━━━━━━━━━━━━━━━━━━━━\u001b[0m\u001b[37m\u001b[0m \u001b[1m0s\u001b[0m 4ms/step - loss: 0.0030 - val_loss: 0.0026\n",
      "Epoch 35/50\n",
      "\u001b[1m96/96\u001b[0m \u001b[32m━━━━━━━━━━━━━━━━━━━━\u001b[0m\u001b[37m\u001b[0m \u001b[1m0s\u001b[0m 4ms/step - loss: 0.0027 - val_loss: 0.0026\n",
      "Epoch 36/50\n",
      "\u001b[1m96/96\u001b[0m \u001b[32m━━━━━━━━━━━━━━━━━━━━\u001b[0m\u001b[37m\u001b[0m \u001b[1m0s\u001b[0m 4ms/step - loss: 0.0029 - val_loss: 0.0027\n",
      "Epoch 37/50\n",
      "\u001b[1m96/96\u001b[0m \u001b[32m━━━━━━━━━━━━━━━━━━━━\u001b[0m\u001b[37m\u001b[0m \u001b[1m0s\u001b[0m 4ms/step - loss: 0.0029 - val_loss: 0.0027\n",
      "Epoch 38/50\n",
      "\u001b[1m96/96\u001b[0m \u001b[32m━━━━━━━━━━━━━━━━━━━━\u001b[0m\u001b[37m\u001b[0m \u001b[1m0s\u001b[0m 4ms/step - loss: 0.0029 - val_loss: 0.0026\n",
      "Epoch 39/50\n",
      "\u001b[1m96/96\u001b[0m \u001b[32m━━━━━━━━━━━━━━━━━━━━\u001b[0m\u001b[37m\u001b[0m \u001b[1m0s\u001b[0m 4ms/step - loss: 0.0030 - val_loss: 0.0029\n"
     ]
    }
   ],
   "source": [
    "\n",
    "# Celda 9 - Crear y entrenar modelo LSTM\n",
    "\n",
    "from tensorflow.keras.models import Sequential\n",
    "from tensorflow.keras.layers import Input, LSTM, Dense\n",
    "from tensorflow.keras.callbacks import EarlyStopping\n",
    "\n",
    "model = Sequential()\n",
    "model.add(Input(shape=(pasos, 1)))   # Capa de entrada explícita para evitar warning\n",
    "model.add(LSTM(50))                  # Activación por defecto 'tanh'\n",
    "model.add(Dense(1))\n",
    "\n",
    "model.compile(optimizer='adam', loss='mse')\n",
    "\n",
    "early_stop = EarlyStopping(monitor='val_loss', patience=5)\n",
    "\n",
    "history = model.fit(\n",
    "    X_train_lstm, y_train_lstm,\n",
    "    epochs=50,\n",
    "    batch_size=32,\n",
    "    validation_data=(X_test_lstm, y_test_lstm),\n",
    "    callbacks=[early_stop],\n",
    "    verbose=1\n",
    ")\n"
   ]
  },
  {
   "cell_type": "code",
   "execution_count": 11,
   "id": "7df172ea",
   "metadata": {},
   "outputs": [
    {
     "data": {
      "image/png": "[encoded data removed]",
      "text/plain": [
       "<Figure size 640x480 with 1 Axes>"
      ]
     },
     "metadata": {},
     "output_type": "display_data"
    }
   ],
   "source": [
    "\n",
    "# Celda 10 - Visualizar la evolución del error en entrenamiento y prueba\n",
    "\n",
    "import matplotlib.pyplot as plt\n",
    "\n",
    "plt.plot(history.history['loss'], label='Error entrenamiento')\n",
    "plt.plot(history.history['val_loss'], label='Error validación')\n",
    "plt.legend()\n",
    "plt.show()\n"
   ]
  },
  {
   "cell_type": "code",
   "execution_count": null,
   "id": "bdd04715-dbf5-4ff1-b16a-9182244174ac",
   "metadata": {},
   "outputs": [],
   "source": []
  },
  {
   "cell_type": "code",
   "execution_count": null,
   "id": "b8195f68-1637-4a14-a13c-3d0a7f508e03",
   "metadata": {},
   "outputs": [],
   "source": []
  },
  {
   "cell_type": "code",
   "execution_count": null,
   "id": "3e810b64-c285-4bfe-8c4b-0d88f1c354c1",
   "metadata": {},
   "outputs": [],
   "source": []
  },
  {
   "cell_type": "code",
   "execution_count": null,
   "id": "3911a567-7dab-4bc9-80dd-bc43ddcf55e7",
   "metadata": {},
   "outputs": [],
   "source": []
  },
  {
   "cell_type": "code",
   "execution_count": null,
   "id": "85cf3ec5-f1a6-431e-8ab2-5f026e726444",
   "metadata": {},
   "outputs": [],
   "source": []
  },
  {
   "cell_type": "code",
   "execution_count": null,
   "id": "58a44620-2f10-48d3-be7c-a745af6f7ab4",
   "metadata": {},
   "outputs": [],
   "source": []
  }
 ],
 "metadata": {
  "kernelspec": {
   "display_name": "Python 3 (ipykernel)",
   "language": "python",
   "name": "python3"
  },
  "language_info": {
   "codemirror_mode": {
    "name": "ipython",
    "version": 3
   },
   "file_extension": ".py",
   "mimetype": "text/x-python",
   "name": "python",
   "nbconvert_exporter": "python",
   "pygments_lexer": "ipython3",
   "version": "3.10.0"
  }
 },
 "nbformat": 4,
 "nbformat_minor": 5
}
