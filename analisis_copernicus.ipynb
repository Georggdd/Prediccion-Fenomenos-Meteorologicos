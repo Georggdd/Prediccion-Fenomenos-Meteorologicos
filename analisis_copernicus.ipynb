{
 "cells": [
  {
   "cell_type": "markdown",
   "id": "7aef0b68",
   "metadata": {},
   "source": [
    "# Análisis y visualización de datos climáticos Copernicus\n",
    "Este notebook carga el dataset unido, explora las variables y genera gráficas simples.\n"
   ]
  },
  {
   "cell_type": "code",
   "execution_count": null,
   "id": "9407bbb6",
   "metadata": {},
   "outputs": [],
   "source": [
    "\n",
    "import xarray as xr\n",
    "import matplotlib.pyplot as plt\n",
    "\n",
    "# Cargar dataset unido\n",
    "ds = xr.open_dataset(\"datos_unidos.nc\")\n",
    "\n",
    "# Mostrar resumen del dataset\n",
    "print(ds)\n"
   ]
  },
  {
   "cell_type": "markdown",
   "id": "538f2fa9",
   "metadata": {},
   "source": [
    "### Graficar serie temporal mensual de temperatura a 2m"
   ]
  },
  {
   "cell_type": "code",
   "execution_count": null,
   "id": "8f0509b6",
   "metadata": {},
   "outputs": [],
   "source": [
    "\n",
    "var = \"t2m\"\n",
    "ts = ds[var].mean(dim=[\"latitude\", \"longitude\"])\n",
    "plt.figure(figsize=(12,6))\n",
    "ts.plot()\n",
    "plt.title(f\"Serie temporal mensual de {var}\")\n",
    "plt.ylabel(\"Valor\")\n",
    "plt.show()\n"
   ]
  },
  {
   "cell_type": "markdown",
   "id": "271b352f",
   "metadata": {},
   "source": [
    "### Graficar serie temporal mensual de precipitación total"
   ]
  },
  {
   "cell_type": "code",
   "execution_count": null,
   "id": "a2bca39e",
   "metadata": {},
   "outputs": [],
   "source": [
    "\n",
    "var = \"total_precipitation\"\n",
    "ts = ds[var].mean(dim=[\"latitude\", \"longitude\"])\n",
    "plt.figure(figsize=(12,6))\n",
    "ts.plot()\n",
    "plt.title(f\"Serie temporal mensual de {var}\")\n",
    "plt.ylabel(\"Valor\")\n",
    "plt.show()\n"
   ]
  }
 ],
 "metadata": {},
 "nbformat": 4,
 "nbformat_minor": 5
}
